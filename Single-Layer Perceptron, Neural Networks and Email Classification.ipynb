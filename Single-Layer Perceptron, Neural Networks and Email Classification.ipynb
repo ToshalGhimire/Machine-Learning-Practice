{
 "cells": [
  {
   "cell_type": "markdown",
   "metadata": {},
   "source": [
    "# Single-Layer Perceptron, Neural Networks and Email Classification \n",
    "\n",
    "\n",
    "**Acknowledgment**: Noah Smith, Chris Ketelsen, Chenhao Tan "
   ]
  },
  {
   "cell_type": "markdown",
   "metadata": {},
   "source": [
    "Name: Toshal Ghimire "
   ]
  },
  {
   "cell_type": "code",
   "execution_count": 2,
   "metadata": {},
   "outputs": [],
   "source": [
    "import math\n",
    "import pickle\n",
    "import gzip\n",
    "import numpy as np\n",
    "import pandas\n",
    "import matplotlib.pylab as plt\n",
    "%matplotlib inline"
   ]
  },
  {
   "cell_type": "markdown",
   "metadata": {},
   "source": [
    "Single-Layer and Multilayer Perceptron Learning\n",
    "---\n",
    "\n",
    "**Part A** : Consider learning the following concepts with either a single-layer or multilayer perceptron where all hidden and output neurons utilize *indicator* activation functions. For each of the following concepts, state whether the concept can be learned by a single-layer perceptron. Briefly justify your response by providing weights and biases as applicable:\n",
    "\n",
    "i. $~ \\texttt{ NOT } x_1$\n",
    "\n",
    "ii. $~~x_1 \\texttt{ NAND } x_2$\n",
    "\n",
    "iii. $~~x_1 \\texttt{ XNOR } x_2$ (output 1 when $x_1 = x_2$ and 0 otherwise)"
   ]
  },
  {
   "cell_type": "code",
   "execution_count": 3,
   "metadata": {
    "deletable": false,
    "nbgrader": {
     "checksum": "c85384be6b7c21b60e806f68a49d0a2d",
     "grade": true,
     "grade_id": "cell-5504bb80827fe61b",
     "locked": false,
     "points": 15,
     "schema_version": 1,
     "solution": true
    }
   },
   "outputs": [
    {
     "name": "stdout",
     "output_type": "stream",
     "text": [
      "NOT 0 = 1\n",
      "NOT 1 = 0\n",
      "NOT 0 = 1\n",
      "NOT 1 = 0\n",
      "With weight [-1] and bias 0.5 percption learning can learn NOT x1\n",
      "\n",
      "0 NAND 0 = 1\n",
      "1 NAND 0 = 1\n",
      "0 NAND 1 = 1\n",
      "1 NAND 1 = 0\n",
      "With weight [-1, -1] and bias 1.5 percption learning can learn x1 NAND x2\n",
      "\n",
      "Since XNOR is not linearly seperable a single layer perception algroithm cannot learn it\n"
     ]
    }
   ],
   "source": [
    "x1 = [0,1,0,1]\n",
    "x2 = [0,0,1,1]\n",
    "\n",
    "def sign(x):\n",
    "    return 1 if x >= 0 else 0\n",
    "\n",
    "# NOT x1 \n",
    "weight = [-1]\n",
    "bias = 0.5\n",
    "\n",
    "def testNOT(x1,weight,bias):\n",
    "    for i in range(len(x1)):\n",
    "        z = weight[0]*x1[i]  + bias\n",
    "        a = sign(z)\n",
    "        print(\"NOT\",x1[i],\"=\",a)\n",
    "\n",
    "testNOT(x1,weight,bias)\n",
    "print(\"With weight\",weight,\"and bias\",bias,\"percption learning can learn NOT x1\\n\")\n",
    "\n",
    "\n",
    "# x1 NAND x2 \n",
    "weight = [-1,-1]\n",
    "bias = 1.5\n",
    "\n",
    "#test\n",
    "def testNAND(x1,x2,weight,bias):\n",
    "    for i in range(len(x1)):\n",
    "        z = weight[0]*x1[i] + weight[1]*x2[i] + bias\n",
    "        a = sign(z)\n",
    "        print(x1[i],\"NAND\",x2[i],\"=\",a)\n",
    "\n",
    "testNAND(x1,x2,weight,bias)\n",
    "print(\"With weight\",weight,\"and bias\",bias,\"percption learning can learn x1 NAND x2\\n\")\n",
    "\n",
    "print(\"Since XNOR is not linearly seperable a single layer perception algroithm cannot learn it\")\n"
   ]
  },
  {
   "cell_type": "markdown",
   "metadata": {},
   "source": [
    "**Part B** : Determine an architecture and specific values of the weights and biases in a single-layer or multilayer perceptron with *indicator* activation functions that can learn $x_1 \\texttt{ XNOR } x_2$. Describe your architecture and state your weight matrices and bias vectors in Markdown below. Then demonstrate that your solution is correct by implementing forward propagation for your network in Python and showing that it correctly produces the correct boolean output values for each of the four possible combinations of $x_1$ and $x_2$."
   ]
  },
  {
   "cell_type": "markdown",
   "metadata": {
    "collapsed": true,
    "deletable": false,
    "nbgrader": {
     "checksum": "4ba359fcd10f0c6fd31fbe9f9985af6c",
     "grade": true,
     "grade_id": "cell-fd1e475a5ef92def",
     "locked": false,
     "points": 10,
     "schema_version": 1,
     "solution": true
    }
   },
   "source": [
    "This can be learned if we first take the NAND of x1 and x1 then take the NOR of x1 and x2 then finaly taking the OR of the outputs of NAND and NOR "
   ]
  },
  {
   "cell_type": "code",
   "execution_count": 4,
   "metadata": {
    "deletable": false,
    "nbgrader": {
     "checksum": "6665c678216da8282104f9cf0397ceb2",
     "grade": true,
     "grade_id": "cell-330996afb5a81650",
     "locked": false,
     "points": 0,
     "schema_version": 1,
     "solution": true
    }
   },
   "outputs": [
    {
     "name": "stdout",
     "output_type": "stream",
     "text": [
      "x1 XNOR X2 = [1, 0, 0, 1]\n"
     ]
    }
   ],
   "source": [
    "x1 = [0,1,0,1]\n",
    "x2 = [0,0,1,1]\n",
    "\n",
    "def sign(x):\n",
    "    return 1 if x >= 0 else 0\n",
    "\n",
    "# First compute AND \n",
    "def AND(x1,x2):\n",
    "    weight = [1,1]\n",
    "    bias = -1.5\n",
    "    out = []\n",
    "    for i in range(len(x1)):\n",
    "        z = weight[0]*x1[i] + weight[1]*x2[i] + bias\n",
    "        a = sign(z)\n",
    "        out.append(a)\n",
    "    return out\n",
    "\n",
    "output1 = AND(x1,x2)\n",
    "\n",
    "# then compute NOR\n",
    "\n",
    "\n",
    "def NOR(x1,x2):\n",
    "    weight = [-1,-1]\n",
    "    bias = 0.5\n",
    "    out = []\n",
    "    for i in range(len(x1)):\n",
    "        z = weight[0]*x1[i] + weight[1]*x2[i] + bias\n",
    "        a = sign(z)\n",
    "        out.append(a)\n",
    "    return out\n",
    "\n",
    "output2 = NOR(x1,x2)\n",
    "\n",
    "# finaly do OR between output 1 and output 2 to compute x1 XNOR x2\n",
    "\n",
    "\n",
    "\n",
    "def OR(x1,x2):\n",
    "    weight = [1,1]\n",
    "    bias = -0.5\n",
    "    out = []\n",
    "    for i in range(len(x1)):\n",
    "        z = weight[0]*x1[i] + weight[1]*x2[i] + bias\n",
    "        a = sign(z)\n",
    "        out.append(a)\n",
    "    return out\n",
    "\n",
    "XNOR = OR(output1,output2)\n",
    "print(\"x1 XNOR X2 =\",XNOR)\n"
   ]
  },
  {
   "cell_type": "code",
   "execution_count": 5,
   "metadata": {},
   "outputs": [
    {
     "data": {
      "text/plain": [
       "[1, 0, 0, 1]"
      ]
     },
     "execution_count": 5,
     "metadata": {},
     "output_type": "execute_result"
    }
   ],
   "source": [
    "def getXNOR(x1,x2):\n",
    "    output1 = AND(x1,x2)\n",
    "    output2 = NOR(x1,x2)\n",
    "    XNOR = OR(output1,output2)\n",
    "    return XNOR\n",
    "\n",
    "getXNOR(x1,x2)"
   ]
  },
  {
   "cell_type": "markdown",
   "metadata": {},
   "source": [
    "by doing x1 AND x2 = out1 and x1 NOR x2 = out2\n",
    "then finlay doing out1 OR out2 i was able to achive the effect of doing x1 XNOR x2 \n",
    "\n",
    "The weights and bias are inside the AND,NOR & OR functions"
   ]
  },
  {
   "cell_type": "markdown",
   "metadata": {},
   "source": [
    "Back propagation\n",
    "---\n"
   ]
  },
  {
   "cell_type": "markdown",
   "metadata": {},
   "source": [
    "In this problem you'll gain some intuition about why training deep neural networks can be very time consuming.  Consider training the chain-like neural network seen below: \n",
    "\n",
    "![chain-like nn](figs/chain_net.png)\n",
    "\n",
    "Note that this network has three weights $W^1, W^2, W^3$ and three biases $b^1, b^2,$ and $b^3$ (for this problem you can think of each parameter as a single value or as a $1 \\times 1$ matrix). Suppose that each hidden and output neuron is equipped with a sigmoid activation function and the loss function is given by \n",
    "\n",
    "$$\n",
    "\\ell(y, a^4) = \\frac{1}{2}(y - a^4)^2  \n",
    "$$\n",
    "\n",
    "where $a^4$ is the value of the activation at the output neuron and $y \\in \\{0,1\\}$ is the true label associated with the training example. "
   ]
  },
  {
   "cell_type": "markdown",
   "metadata": {},
   "source": [
    "**Part A**: Suppose each of the weights is initialized to $W^k = 1.0$ and each bias is initialized to $b^k = -0.5$.  Use forward propagation to find the activities and activations associated with each hidden and output neuron for the training example $(x, y) = (0.5,0)$. Show your work. "
   ]
  },
  {
   "cell_type": "markdown",
   "metadata": {
    "collapsed": true,
    "deletable": false,
    "nbgrader": {
     "checksum": "5ed8ae08caeac509ef436f5d18c8223c",
     "grade": true,
     "grade_id": "cell-6512c42fc5e9ce1b",
     "locked": false,
     "points": 5,
     "schema_version": 1,
     "solution": true
    }
   },
   "source": [
    "This network will result in a loop given the current x value of 0.5\n",
    "\n",
    "Because our weights are 1 and biases -0.5 for each **K** we calcuate **$a^k$** by: (where $x = a^1$) \n",
    "$$z^1 = W^1 ~a^1 + bias^1$$\n",
    "$$z^1 = (1) ~0.5 + (-0.5)$$\n",
    "$$z^1 = 0$$\n",
    "$$a^2 = Sigmoid(z^1) = Sigmoid(0) = 0.5 $$\n",
    "\n",
    "now following the same pattern \n",
    "$$z^2 = W^2 ~a^2 + bias^2$$\n",
    "$$z^2 = (1) ~0.5 + (-0.5)$$\n",
    "$$z^2 = 0$$\n",
    "$$a^3 = Sigmoid(z^2) = Sigmoid(0) = 0.5$$\n",
    "\n",
    "again with the 3rd set of weights and bias\n",
    "$$z^3 = W^3 ~a^3 + bias^3$$\n",
    "$$z^3 = (1) ~0.5 + (-0.5)$$\n",
    "$$z^3 = 0$$\n",
    "$$a^4 = Sigmoid(z^3) = Sigmoid(0) = 0.5$$\n",
    "\n",
    "Beacuse the weights are 1 and bias is -0.5 and the x input is 0.5 we end up looping and getting the same output each time beacuse of our chosen activition function, $a^4$ = 0.5"
   ]
  },
  {
   "cell_type": "code",
   "execution_count": 6,
   "metadata": {},
   "outputs": [
    {
     "name": "stdout",
     "output_type": "stream",
     "text": [
      "z1 [0.] \ta1: 0.5\n",
      "z2 [0.] \ta2: 0.5\n",
      "z3 [0.] \ta3: 0.5\n",
      "loss: 0.125\n"
     ]
    }
   ],
   "source": [
    "def sigmoid(x):\n",
    "    return 1/(1+math.exp(-x))\n",
    "\n",
    "weight,bias = [1], -0.5\n",
    "x = 0.5\n",
    "y = 0\n",
    "\n",
    "a1 = x\n",
    "\n",
    "#weight1,weight2,weight3 = 0.935, 0.984375 , 0.99609375\n",
    "#bias1,bias2,bias3 =  -0.625,-0.53125,-0.5078125\n",
    "\n",
    "z1 = np.dot(weight,a1) + bias\n",
    "a2 = sigmoid(z1)\n",
    "print(\"z1\",z1,\"\\ta1:\",a2)\n",
    "\n",
    "z2 = np.dot(weight,a1) + bias\n",
    "a3 = sigmoid(z2)\n",
    "print(\"z2\",z2,\"\\ta2:\",a2)\n",
    "\n",
    "z3 = np.dot(weight,a2) + bias\n",
    "a4 = sigmoid(z3)\n",
    "print(\"z3\",z3,\"\\ta3:\",a3)\n",
    "\n",
    "loss = 1/2 * pow((0 - a4),2)\n",
    "print(\"loss:\",loss)"
   ]
  },
  {
   "cell_type": "markdown",
   "metadata": {},
   "source": [
    "**Part B**: Use Back-Propagation to compute the weight and bias derivatives $\\partial \\ell / \\partial W^k$ and $\\partial \\ell / \\partial b^k$ for $k=1, 2, 3$.  Show all work. "
   ]
  },
  {
   "cell_type": "markdown",
   "metadata": {
    "collapsed": true,
    "deletable": false,
    "nbgrader": {
     "checksum": "d95b2a0dc16f45336d915205d119763a",
     "grade": true,
     "grade_id": "cell-6a3b895fa888e925",
     "locked": false,
     "points": 5,
     "schema_version": 1,
     "solution": true
    }
   },
   "source": [
    "$$\\frac{\\partial \\ell }{ \\partial W^3} = \\frac{\\partial \\ell}{\\partial a^4} ~ \\frac{\\partial a^4 }{ \\partial z^3} ~ \\frac{\\partial z^3 }{ \\partial W^3}$$\n",
    "\n",
    "To update $W^3$ we must find the values of the partial derivatives of the function above\n",
    "<br>\n",
    "\n",
    "#### THE FUNCTIONS\n",
    "$$ z = a^2W^3 + b^3$$ \n",
    "$$ a^l = \\frac{1}{1+e^-{(z^l)}} : \\sigma(z^l) $$\n",
    "$$ \\ell = \\frac{1}{2}(y - a^4)^2 $$\n",
    "\n",
    "<br>\n",
    "#### derivative of loss\n",
    "$$ \\frac{\\partial \\ell}{\\partial a^4}  = (y -a^4)(-1)$$\n",
    "$$ = (0 - 0.5)(-1) $$\n",
    "$$ = 0.5 $$\n",
    "\n",
    "#### derivative of activation (sigmoid) aka g'(z^3)\n",
    "<br>\n",
    "$$ \\frac{\\partial a^4 }{ \\partial z^3}  = \\sigma(-z^3) (1- \\sigma(-z^3))$$\n",
    "     The $\\sigma(-z^3)$ is the value $a^4$ obtained from forward-propagation\n",
    "$$ = a^4 (1- a^4)$$\n",
    "$$ = 0.5 (1- 0.5)$$\n",
    "$$ = 0.25 $$\n",
    "<br>\n",
    "$$ \\delta^3 =  \\frac{\\partial \\ell}{\\partial a^4} ~ \\frac{\\partial a^4 }{ \\partial z^3} $$\n",
    "$$ \\delta^3 =  0.5 ~ 0.25 $$\n",
    "$$ \\delta^3 =  0.125 $$\n",
    "\n",
    "\n",
    "<br>\n",
    "#### derivative of dot product z\n",
    "$$\\frac{\\partial z^3 }{ \\partial W^3} = a^3$$\n",
    "$$= 0.5$$\n",
    "\n",
    "so then we can calculate $\\frac{\\partial \\ell }{ \\partial W^3} $\n",
    "\n",
    "$$\\frac{\\partial \\ell }{ \\partial W^3} = \\frac{\\partial \\ell}{\\partial a^4} ~ \\frac{\\partial a^4 }{ \\partial z^3} ~ \\frac{\\partial z^3 }{ \\partial W^3}$$\n",
    "\n",
    "$$ = (0.5) ~(0.25) ~ (0.5)$$\n",
    "$$ = 0.0625 $$\n",
    "\n",
    "we can now update the weight with (learning rate)$\\eta$ = 1\n",
    "\n",
    "$$W^3 = W^3 - \\eta ~ \\frac{\\partial \\ell }{ \\partial W^3} $$\n",
    "$$W^3 = 1.0 - \\eta ~ 0.0625 $$\n",
    "$$W^3 = 0.935 $$\n",
    "\n",
    "for bias we would need to do the same steps but instead of $\\frac{\\partial \\ell }{ \\partial W^3}$ we would do $\\frac{\\partial \\ell }{ \\partial b^3}$ and the only thing that would change in the equation would be the value of $\\frac{\\partial z^3 }{ \\partial W^3}$ to $\\frac{\\partial z^3 }{ \\partial b^3}$ which is the just 1 ( since $z'^{3}= a^3W^3 + b^3 = 0 + 1  = 1 $) so we are just computing $\\frac{\\partial \\ell}{\\partial a^4} ~ \\frac{\\partial a^4 }{ \\partial z^3}$\n",
    "$$ \\frac{\\partial \\ell }{ \\partial b^3} = \\frac{\\partial \\ell}{\\partial a^4} ~ \\frac{\\partial a^4 }{ \\partial z^3} $$\n",
    "$$ = 0.5 ~ 0.25 $$\n",
    "$$ = 0.125 $$\n",
    "\n",
    "$$ b^3 = b^3 - \\frac{\\partial \\ell}{\\partial b^3}$$\n",
    "$$ b^3 = -0.5 - 0.125$$\n",
    "$$ b^3 = -0.625$$\n",
    "\n",
    "so basicly we will have to solve for weight and bias based on this equation since $\\frac{\\partial z^l }{ \\partial W^l}$ = $a^{l-1}$\n",
    "$$\\frac{\\partial \\ell }{ \\partial W^l} = \\delta^l a^{l-1}$$\n",
    "$$\\frac{\\partial \\ell }{ \\partial b^l} = \\delta^l $$\n",
    "\n",
    "\n",
    "But $\\delta^2$ depends on $\\delta^3$\n",
    "\n",
    "since we calcuated $\\delta^3$ to find remaining $W^l$ we must find \n",
    "$$ \\delta^l = W^{l+1}\\delta^{l+1} \\bullet g'(z^l) $$\n",
    "$$ \\frac{\\partial \\ell }{ \\partial W^l} = \\delta^l~a^{l-1} $$\n",
    "\n"
   ]
  },
  {
   "cell_type": "markdown",
   "metadata": {},
   "source": [
    "<br><br>\n",
    "## $W^2$\n",
    "$$\\delta^2 = W^2 \\delta^3 \\bullet g'(z^2) $$\n",
    "$$\\frac{\\partial \\ell }{ \\partial W^2} = \\delta^2 (a^1) $$\n",
    "\n",
    "$$\\delta^2 = w^2 \\delta^3 \\bullet g'(z^2) $$\n",
    "from part A we know $w^2$ and $z^2$ and $\\delta^3$ from above\n",
    "$$\\delta^2 = (1) (0.125) \\bullet g'(0) $$\n",
    "$$\\delta^2 = (1) (0.125) (0.25) $$\n",
    "$$\\delta^2 = 0.03125 $$\n",
    "\n",
    "$$\\frac{\\partial \\ell }{ \\partial W^2} = \\delta^2 (a^1) $$\n",
    "$$\\frac{\\partial \\ell }{ \\partial W^2} = 0.3125 (0.5) $$\n",
    "$$\\frac{\\partial \\ell }{ \\partial W^2} = 0.015625 $$\n",
    "\n",
    "$$W^2 = W^2 - 0.015625 $$\n",
    "$$W^2 = 0.984375 $$\n",
    "\n",
    "\n",
    "\n",
    "\n",
    "\n",
    "## $W^1$\n",
    "$$\\delta^1 = W^1 \\delta^2 \\bullet g'(z^1) $$\n",
    "$$\\frac{\\partial \\ell }{ \\partial W^1} = \\delta^1 (a^0) $$\n",
    "\n",
    "$$\\delta^1 = W^1 \\delta^2 \\bullet g'(z^1) $$\n",
    "from part A we know $w^1$ and $z^1$ and $\\delta^3$ from above\n",
    "$$\\delta^1 = (1) (0.03125) \\bullet g'(0) $$\n",
    "$$\\delta^1 = (1) (0.03125) (0.25) $$\n",
    "$$\\delta^1 = 0.0078125 $$\n",
    "\n",
    "$$\\frac{\\partial \\ell }{ \\partial W^1} = \\delta^1 (a^0) $$\n",
    "$$\\frac{\\partial \\ell }{ \\partial W^1} = 0.0078125 (0.5) $$\n",
    "$$\\frac{\\partial \\ell }{ \\partial W^1} = 0.00390625$$\n",
    "\n",
    "$$W^2 = W^1 - 0.00390625 $$\n",
    "$$W^2 = 0.99609375 $$"
   ]
  },
  {
   "cell_type": "code",
   "execution_count": 7,
   "metadata": {},
   "outputs": [
    {
     "name": "stdout",
     "output_type": "stream",
     "text": [
      "After back propagation the weights that i found were:\n",
      "Weight 1: 0.935\n",
      "Weight 2: 0.984375\n",
      "Weight 3: 0.99609375\n",
      "\n",
      "After back propagation the Bias that i found were:\n",
      "Bias 1: -0.625\n",
      "Bias 2: -0.53125\n",
      "Bias 3: -0.5078125\n"
     ]
    }
   ],
   "source": [
    "print(\"After back propagation the weights that i found were:\")\n",
    "print(\"Weight 1: 0.935\")\n",
    "print(\"Weight 2: 0.984375\")\n",
    "print(\"Weight 3: 0.99609375\")\n",
    "\n",
    "#we wernt asked for bias but here it is anyway\n",
    "print(\"\\nAfter back propagation the Bias that i found were:\")\n",
    "print(\"Bias 1: -0.625\")\n",
    "print(\"Bias 2: -0.53125\")\n",
    "print(\"Bias 3: -0.5078125\")\n"
   ]
  },
  {
   "cell_type": "markdown",
   "metadata": {},
   "source": [
    "**PART C** Implement following activation functions:\n",
    "* Relu\n",
    "* Sigmoid\n",
    "* softmax"
   ]
  },
  {
   "cell_type": "code",
   "execution_count": 8,
   "metadata": {
    "deletable": false,
    "nbgrader": {
     "checksum": "a11601766c4f5d28f2b672ebe82b132e",
     "grade": false,
     "grade_id": "cell-3b7e3adaffe2c2ee",
     "locked": false,
     "schema_version": 1,
     "solution": true
    }
   },
   "outputs": [],
   "source": [
    "import math\n",
    "\n",
    "def relu(x):\n",
    "    return x if x >0 else 0\n",
    "\n",
    "def sigmoid(x):\n",
    "    return 1/(1+math.exp(-x))\n",
    "\n",
    "def soft_max(x):\n",
    "    out = []\n",
    "    SUM = 0\n",
    "    for i in x:\n",
    "        SUM += math.exp(i)\n",
    "        \n",
    "    for i in x:\n",
    "        out.append(math.exp(i)/SUM)\n",
    "        \n",
    "    return out"
   ]
  },
  {
   "cell_type": "code",
   "execution_count": 10,
   "metadata": {
    "deletable": false,
    "editable": false,
    "nbgrader": {
     "checksum": "7a065137beda1d2059a79da7236a504c",
     "grade": true,
     "grade_id": "cell-0bded3752d3226b9",
     "locked": true,
     "points": 5,
     "schema_version": 1,
     "solution": false
    }
   },
   "outputs": [],
   "source": [
    "assert relu(5) == 5\n",
    "assert relu(-5) == 0\n",
    "assert relu(0) == 0\n",
    "assert relu(5) == 5\n",
    "\n",
    "assert sigmoid(0.458) == 0.61253961344091512\n",
    "assert sigmoid(2) == 0.8807970779778823\n",
    "res = soft_max([1,2,4])\n",
    "temp = [0.04201007, 0.1141952 , 0.84379473]\n",
    "for i in range(len(temp)):\n",
    "    assert res[i] - temp[i] < 1e-5"
   ]
  },
  {
   "cell_type": "markdown",
   "metadata": {},
   "source": [
    "**PART D** Implement the following Loss functions:\n",
    "* mean squared error\n",
    "* mean absolute error\n",
    "* hinge"
   ]
  },
  {
   "cell_type": "code",
   "execution_count": 11,
   "metadata": {
    "deletable": false,
    "nbgrader": {
     "checksum": "8c561dfa268b8b00a4ab84dbd1752d20",
     "grade": false,
     "grade_id": "cell-84456d343bfeca31",
     "locked": false,
     "schema_version": 1,
     "solution": true
    }
   },
   "outputs": [],
   "source": [
    "def mean_squared_error(yhat,y):\n",
    "    if(len(yhat) != len(y)):\n",
    "        return\n",
    "    \n",
    "    SUM = 0\n",
    "    for ii in range(len(y)):\n",
    "        SUM += pow(y[ii]-yhat[ii],2)\n",
    "        \n",
    "    loss = SUM/len(y)\n",
    "    return loss\n",
    "    \n",
    "    \n",
    "def mean_absolute_error(yhat,y):\n",
    "    if(len(yhat) != len(y)):\n",
    "        return\n",
    "    SUM = 0\n",
    "    for ii in range(len(y)):\n",
    "        SUM += abs(y[ii]-yhat[ii])\n",
    "        \n",
    "    loss = SUM/len(y)\n",
    "    return loss\n",
    "\n",
    "def hinge(yhat,y):\n",
    "    if(len(yhat) != len(y)):\n",
    "        return\n",
    "    \n",
    "    SUM = 0\n",
    "    for ii in range(len(y)):\n",
    "        MAX = max(0,1 - y[ii]*yhat[ii])\n",
    "        SUM += MAX\n",
    "    \n",
    "    loss = SUM/len(y)\n",
    "    return loss\n",
    "    "
   ]
  },
  {
   "cell_type": "code",
   "execution_count": 12,
   "metadata": {
    "deletable": false,
    "editable": false,
    "nbgrader": {
     "checksum": "5a390d645725dff540dceab9d23c1c9c",
     "grade": true,
     "grade_id": "cell-550e920d814cb6d3",
     "locked": true,
     "points": 5,
     "schema_version": 1,
     "solution": false
    }
   },
   "outputs": [],
   "source": [
    "y_true = np.array([3, -0.5, 2, 7])\n",
    "y_pred = np.array([2.5, 0.0, 2, 8])\n",
    "assert mean_squared_error(y_pred,y_true) == 0.375\n",
    "assert mean_absolute_error(y_pred,y_true) == 0.5\n",
    "assert hinge(y_pred,y_true) == 0.25"
   ]
  },
  {
   "cell_type": "markdown",
   "metadata": {},
   "source": [
    "**PART E** Explain the vanishing gradient problem, when would you observe this?"
   ]
  },
  {
   "cell_type": "markdown",
   "metadata": {
    "collapsed": true,
    "deletable": false,
    "nbgrader": {
     "checksum": "550c7233d3dc395aa4965b23ce1126a4",
     "grade": true,
     "grade_id": "cell-59ccf91056b5d8bb",
     "locked": false,
     "points": 5,
     "schema_version": 1,
     "solution": true
    }
   },
   "source": [
    "The vanishing gradient problem is a problem in which the gradiaent  will be vanishingly small. It is caused by the update value being proportional to the gradient of the error function W.R.T current weights. It can cause the network become really hard to learn and tune the parameters of the earlier layers. Which prevents the weights from updating its value. This problem could end up stoping the network from training/learning. we observe this when there are many hidden layers."
   ]
  },
  {
   "cell_type": "markdown",
   "metadata": {},
   "source": [
    "[25 Points] Problem 3 - Build a feedForward neural network\n",
    "---\n",
    "\n",
    "In this problem you'll implement a general feed-forward neural network class that utilizes sigmoid activation functions. Your tasks will be to implement forward propagation, prediction, back propagation, and a general train routine to learn the weights in your network via stochastic gradient descent.\n",
    "\n",
    "The skeleton for the network class is below. Note that this class is almost identical to the one you worked with in the hands-On neural network in-class notebook, so you should look there to remind yourself of the details. Scroll down to find more information about your tasks as well as unit tests."
   ]
  },
  {
   "cell_type": "code",
   "execution_count": 13,
   "metadata": {
    "deletable": false,
    "nbgrader": {
     "checksum": "edeb900917edc30fc748c3f4fa77237a",
     "grade": false,
     "grade_id": "cell-b8abc0ac570aac74",
     "locked": false,
     "schema_version": 1,
     "solution": true
    }
   },
   "outputs": [],
   "source": [
    "import argparse\n",
    "import numpy as np\n",
    "import pickle\n",
    "import gzip\n",
    "import matplotlib.pyplot as plt\n",
    "\n",
    "\n",
    "class Network:\n",
    "    def __init__(self, sizes):\n",
    "        self.L = len(sizes)\n",
    "        self.sizes = sizes\n",
    "        self.biases = [np.random.randn(n, 1) for n in self.sizes[1:]]\n",
    "        self.weights = [np.random.randn(n, m) for (\n",
    "            m, n) in zip(self.sizes[:-1], self.sizes[1:])]\n",
    "        \n",
    "\n",
    "    def g(self, z):\n",
    "        \"\"\"\n",
    "        activation function\n",
    "        \"\"\"\n",
    "        return sigmoid(z)\n",
    "\n",
    "    def g_prime(self, z):\n",
    "        \"\"\"\n",
    "        derivative of activation function\n",
    "        \"\"\"\n",
    "        return sigmoid_prime(z)\n",
    "\n",
    "    def forward_prop(self, a):\n",
    "        \"\"\"\n",
    "        memory aware forward propagation for testing\n",
    "        only.  back_prop implements it's own forward_prop\n",
    "        \"\"\"\n",
    "        \n",
    "        for W, b in zip(self.weights, self.biases):\n",
    "            z = np.dot(W, a) + b\n",
    "            a = self.g(z)\n",
    "          \n",
    "        return a\n",
    "            \n",
    "\n",
    "    def grad_cost(self, a, y):\n",
    "        \"\"\"\n",
    "        gradient of cost function\n",
    "        Assumes C(a,y) = (a-y)^2/2\n",
    "        \"\"\"\n",
    "        return (a - y)\n",
    "\n",
    "    def SGD_train(self, train, epochs, eta, lam=0.0, verbose=True, test=None,random=False):\n",
    "        \"\"\"\n",
    "        SGD for training parameters\n",
    "        epochs is the number of epocs to run\n",
    "        eta is the learning rate\n",
    "        lam is the regularization parameter\n",
    "        If verbose is set will print progressive accuracy updates\n",
    "        If test set is provided, routine will print accuracy on test set as learning evolves\n",
    "        \"\"\"\n",
    "        n_train = len(train)\n",
    "      \n",
    "        for epoch in range(epochs):\n",
    "            \n",
    "            # Shuffleing data within each epochs\n",
    "            shuffle_ind = np.random.permutation(train)\n",
    "            \n",
    "            for ind in range(n_train):\n",
    "                x = shuffle_ind[ind][0]\n",
    "                y = shuffle_ind[ind][1]\n",
    "\n",
    "                dw, db = self.back_prop(x,y)\n",
    "\n",
    "                # Updating weights using dl/dw and bias using dl/wb from back propagation\n",
    "                for ii in range(self.L-1):\n",
    "                    self.weights[ii] = self.weights[ii] - eta*(lam * self.weights[ii] + dw[ii])\n",
    "                    self.biases[ii] = self.biases[ii] - eta*db[ii]\n",
    "\n",
    "           \n",
    "            # Printing the process\n",
    "            if verbose:\n",
    "                if epoch == 0 or (epoch + 1) % 15 == 0:\n",
    "                    acc_train = self.evaluate(train)\n",
    "                    if test is not None:\n",
    "                        acc_test = self.evaluate(test)\n",
    "                        # epoch_accuracy_list.append((acc_test,acc_train))    #omit\n",
    "                        print(\"Epoch {:4d}: Train {:10.5f}, Test {:10.5f}\".format(\n",
    "                            epoch+1, acc_train, acc_test))\n",
    "                        \n",
    "                        self.train_acc = acc_train\n",
    "                        self.test_acc = acc_test\n",
    "                    else:\n",
    "                        print(\"Epoch {:4d}: Train {:10.5f}\".format(\n",
    "                            epoch+1, acc_train))\n",
    "\n",
    "    def back_prop(self, x, y):\n",
    "        \"\"\"\n",
    "        Back propagation for derivatives of C wrt parameters\n",
    "        \"\"\"\n",
    "        db_list = [np.zeros(b.shape) for b in self.biases]\n",
    "        dW_list = [np.zeros(W.shape) for W in self.weights]\n",
    "\n",
    "            \n",
    "        a = x\n",
    "        a_list = [a]\n",
    "        z_list = [np.zeros(a.shape)]  # Pad with throwaway so indices match\n",
    "        \n",
    "        # Preform forward propagation \n",
    "        for W, b in zip(self.weights, self.biases):\n",
    "            z = np.dot(W, a) + b\n",
    "            z_list.append(z)\n",
    "            a = self.g(z)\n",
    "            a_list.append(a)\n",
    "\n",
    "        # initilize delta to zeros\n",
    "        delta = [np.zeros((n, 1)) for n in self.sizes]\n",
    "        ##print(\"inital delta:\",delta)\n",
    "\n",
    "        # set delta for the last layer \n",
    "        delta[self.L - 1 ] = self.g_prime(z_list[self.L-1]) *self.grad_cost(a_list[self.L-1],y)\n",
    "        ##print(\"last delta:\",delta[self.L - 1 ])\n",
    "        \n",
    "        # Back propagation done here\n",
    "        for ll in range(self.L-2,-1,-1):\n",
    "            dW_list[ll] = np.dot(delta[ll+1],a_list[ll].T)\n",
    "            db_list[ll] = delta[ll+1]\n",
    "            delta[ll] = np.dot(self.weights[ll].T,delta[ll+1]) *self.g_prime(z_list[ll])\n",
    "        \n",
    "        return (dW_list, db_list)\n",
    "\n",
    "    def evaluate(self, test):\n",
    "        \"\"\"\n",
    "        Evaluate current model on labeled test data\n",
    "        \"\"\"\n",
    "        ctr = 0\n",
    "        for x, y in test:\n",
    "            yhat = self.forward_prop(x)\n",
    "            ctr += np.argmax(yhat) == np.argmax(y)\n",
    "        return float(ctr) / float(len(test))\n",
    "\n",
    "\n",
    "def sigmoid(z, threshold=20):\n",
    "    z = np.clip(z, -threshold, threshold)\n",
    "    return 1.0/(1.0+np.exp(-z))\n",
    "\n",
    "\n",
    "def sigmoid_prime(z):\n",
    "    return sigmoid(z) * (1.0 - sigmoid(z))\n",
    "\n",
    "\n",
    "def mnist_digit_show(flatimage, outname=None):\n",
    "\n",
    "    import matplotlib.pyplot as plt\n",
    "\n",
    "    image = np.reshape(flatimage, (-1, 14))\n",
    "\n",
    "    plt.matshow(image, cmap=plt.cm.binary)\n",
    "    plt.xticks([])\n",
    "    plt.yticks([])\n",
    "    if outname:\n",
    "        plt.savefig(outname)\n",
    "    else:\n",
    "        plt.show()\n",
    "        \n",
    "        "
   ]
  },
  {
   "cell_type": "markdown",
   "metadata": {},
   "source": [
    "**PART A** Implement *SGD_train, back_prop,forward_prop*. Use the following test cases to verify if the code is working as expected."
   ]
  },
  {
   "cell_type": "code",
   "execution_count": 14,
   "metadata": {
    "deletable": false,
    "editable": false,
    "nbgrader": {
     "checksum": "6f57fea6be415a9b96f9fffdd56d78c3",
     "grade": true,
     "grade_id": "cell-7632a78793a2588e",
     "locked": true,
     "points": 15,
     "schema_version": 1,
     "solution": false
    }
   },
   "outputs": [
    {
     "name": "stderr",
     "output_type": "stream",
     "text": [
      "ERROR:root:File `'tests/tests.py'` not found.\n"
     ]
    }
   ],
   "source": [
    "%run -i tests/tests3.py"
   ]
  },
  {
   "cell_type": "markdown",
   "metadata": {},
   "source": [
    "** PART B **\n",
    "\n",
    "Run the above Network on MNIST Dataset and report the following (feel free to experiment with different learning rates).\n",
    "* Define the hidden layer dimension appropriate for this dataset and report the accuracy for 200 epochs.\n",
    "\n",
    "**answer:** With a low hidden layer dimension (2) I was only able to get 34% test accuracy with my NN, but with a hidden layer dimension of 10 The best accuracy I was able to attain was 96% train and 85% test accurcy. when increasing the dimension to 20 the best i could classify was 97% train and 86% test accuracy. Which was basicly the same as using 10 dimensions.\n",
    "\n",
    "* Explain the effect of hidden dimension with appropriate plots (check training accuracy and test accuracy). \n",
    "\n",
    "**answer**: graph is below\n",
    "\n",
    "* Explain the effect of number of epochs on MNIST Data.\n",
    "\n",
    "**answer:** epoch 1 for almost all cases was very low for train and test accuracy. But after reaching epoch 15 it jumped up to around 70-85% test and test accuracy. The reamining 185 epoch I was only able to notice an increase of around 5-8% test accuracy and usualy a 7-10% increase in train accuracy. **Takeaway:** epoch after a certian amount will barley change the test accuracy"
   ]
  },
  {
   "cell_type": "code",
   "execution_count": 147,
   "metadata": {
    "scrolled": true
   },
   "outputs": [
    {
     "name": "stdout",
     "output_type": "stream",
     "text": [
      "Number of Input Features:  196\n",
      "Number of Output classes:  10\n",
      "\n",
      "Hidden Layer Dimensions:  10\n",
      "Epoch    1: Train    0.37575, Test    0.34854\n",
      "Epoch   15: Train    0.89756, Test    0.81353\n",
      "Epoch   30: Train    0.92317, Test    0.83473\n",
      "Epoch   45: Train    0.93637, Test    0.84274\n",
      "Epoch   60: Train    0.93958, Test    0.84874\n",
      "Epoch   75: Train    0.94278, Test    0.85114\n",
      "Epoch   90: Train    0.94598, Test    0.85474\n",
      "Epoch  105: Train    0.94078, Test    0.85754\n",
      "Epoch  120: Train    0.94878, Test    0.85794\n",
      "Epoch  135: Train    0.94958, Test    0.85874\n",
      "Epoch  150: Train    0.94958, Test    0.86194\n",
      "Epoch  165: Train    0.94718, Test    0.86475\n",
      "Epoch  180: Train    0.94838, Test    0.85594\n",
      "Epoch  195: Train    0.94558, Test    0.86275\n"
     ]
    }
   ],
   "source": [
    "location = './data/tinyMNIST.pkl.gz'\n",
    "f = gzip.open(location, 'rb')\n",
    "u = pickle._Unpickler(f)\n",
    "u.encoding = 'latin1'\n",
    "train, test = u.load()\n",
    "input_dimensions = len(train[0][0])\n",
    "output_dimensions = len(train[0][1])\n",
    "hidden_layer_dimensions = 10\n",
    "print('Number of Input Features: ', input_dimensions)\n",
    "print('Number of Output classes: ', output_dimensions)\n",
    "print('\\nHidden Layer Dimensions: ', hidden_layer_dimensions)\n",
    "nn = Network([input_dimensions, hidden_layer_dimensions, output_dimensions])\n",
    "nn.SGD_train(train, epochs=200, eta=0.1, lam=0.0001, verbose=True, test=test,random=True)"
   ]
  },
  {
   "cell_type": "code",
   "execution_count": 13,
   "metadata": {},
   "outputs": [
    {
     "data": {
      "text/plain": [
       "0"
      ]
     },
     "execution_count": 13,
     "metadata": {},
     "output_type": "execute_result"
    }
   ],
   "source": [
    "# RUN CELL WITH CARE!!! \n",
    "# Since this cell took 10+ minutes to run\n",
    "# I commented it out and manualy saved the varibles in the cell \n",
    "# below, if you wish to run this cell uncomment it and \n",
    "# also uncomment the assinment of train and test ACC in the cell\n",
    "# below\n",
    "\n",
    "'''\n",
    "input_dimensions = len(train[0][0])\n",
    "output_dimensions = len(train[0][1])\n",
    "\n",
    "trainACC = []\n",
    "testACC = []\n",
    "\n",
    "for ii in range(16):\n",
    "    print(\"Hidden layer dimension:\",ii)\n",
    "    hidden_layer_dimensions = ii+1\n",
    "    nn = Network([input_dimensions, hidden_layer_dimensions, output_dimensions])\n",
    "    nn.SGD_train(train, epochs=100, eta=0.1, lam=0.0001, verbose=True, test=test,random=True)\n",
    "\n",
    "    trainACC.append(nn.evaluate(train))\n",
    "    testACC.append(nn.evaluate(test))\n",
    "\n",
    "'''\n",
    "0\n"
   ]
  },
  {
   "cell_type": "code",
   "execution_count": 148,
   "metadata": {},
   "outputs": [
    {
     "data": {
      "text/plain": [
       "Text(0.5, 1.0, 'Train vs Test Accuracy with 100 epochs')"
      ]
     },
     "execution_count": 148,
     "metadata": {},
     "output_type": "execute_result"
    },
    {
     "data": {
      "image/png": "[encoded data removed]",
      "text/plain": [
       "<Figure size 576x576 with 1 Axes>"
      ]
     },
     "metadata": {
      "needs_background": "light"
     },
     "output_type": "display_data"
    }
   ],
   "source": [
    "fig, ax = plt.subplots(nrows=1, ncols=1, figsize=(8,8))\n",
    "epoch = [1,2,3,4,5,6,7,8,9,10,11,12,13,14,15,16]\n",
    "\n",
    "# COMMENT OUT IF YOU PLAN ON RUNNING THE CELL ABOVE \n",
    "trainACC = [0.29491796718687474, 0.49459783913565425, 0.689875950380152, 0.8323329331732693, 0.8343337334933973, 0.9155662264905963, 0.9223689475790317, 0.9339735894357744, 0.9431772709083633, 0.9403761504601841, 0.9495798319327731, 0.9503801520608244, 0.9491796718687475, 0.9503801520608244, 0.9495798319327731, 0.9595838335334134]\n",
    "testACC = [0.2933173269307723, 0.4645858343337335, 0.60984393757503, 0.7218887555022009, 0.7695078031212484, 0.820328131252501, 0.8327330932372949, 0.8487394957983193, 0.8575430172068828, 0.8579431772709084, 0.8647458983593438, 0.867547018807523, 0.860344137655062, 0.8727490996398559, 0.8579431772709084, 0.8835534213685474]\n",
    "\n",
    "\n",
    "ax.plot(epoch,trainACC,label=\"Train accuracy\")\n",
    "ax.plot(epoch,testACC,label=\"Test accuracy\")\n",
    "ax.legend()\n",
    "ax.set_xlabel(\"Hidden layer dimensions\")\n",
    "ax.set_ylabel(\"Accuracy\")\n",
    "ax.set_title(\"Train vs Test Accuracy with 100 epochs\")\n"
   ]
  },
  {
   "cell_type": "markdown",
   "metadata": {},
   "source": [
    "####Implement *Dropout layer* and explain the impact on performance\n"
   ]
  },
  {
   "cell_type": "code",
   "execution_count": 149,
   "metadata": {
    "deletable": false,
    "nbgrader": {
     "checksum": "00229a006d4ea5e874a44656862cf7a9",
     "grade": true,
     "grade_id": "cell-f7345360536d4c03",
     "locked": false,
     "points": 10,
     "schema_version": 1,
     "solution": true
    }
   },
   "outputs": [],
   "source": [
    "#Implementing a drop out layer\n",
    "import argparse\n",
    "import numpy as np\n",
    "import pickle\n",
    "import gzip\n",
    "import matplotlib.pyplot as plt\n",
    "import random\n",
    "\n",
    "class NetworkDropout:\n",
    "    def __init__(self, sizes):\n",
    "        self.L = len(sizes)\n",
    "        self.sizes = sizes\n",
    "        self.biases = [np.random.randn(n, 1) for n in self.sizes[1:]]\n",
    "        self.weights = [np.random.randn(n, m) for (\n",
    "            m, n) in zip(self.sizes[:-1], self.sizes[1:])]\n",
    "        \n",
    "\n",
    "    def g(self, z):\n",
    "        return sigmoid(z)\n",
    "\n",
    "    def g_prime(self, z):\n",
    "        return sigmoid_prime(z)\n",
    "\n",
    "    def forward_prop(self, a):\n",
    "        \n",
    "        for W, b in zip(self.weights, self.biases):\n",
    "            z = np.dot(W, a) + b\n",
    "            a = self.g(z)\n",
    "          \n",
    "        return a\n",
    "            \n",
    "\n",
    "    def grad_cost(self, a, y):\n",
    "        return (a - y)\n",
    "\n",
    "    def SGD_train(self, train, epochs, eta, lam=0.0, verbose=True, test=None,random=False):\n",
    "        \"\"\"\n",
    "        SGD for training parameters\n",
    "        epochs is the number of epocs to run\n",
    "        eta is the learning rate\n",
    "        lam is the regularization parameter\n",
    "        If verbose is set will print progressive accuracy updates\n",
    "        If test set is provided, routine will print accuracy on test set as learning evolves\n",
    "        \"\"\"\n",
    "        n_train = len(train)\n",
    "      \n",
    "        for epoch in range(epochs):\n",
    "            \n",
    "            # Shuffleing data within each epochs\n",
    "            shuffle_ind = np.random.permutation(train)\n",
    "            \n",
    "            for ind in range(n_train):\n",
    "                x = shuffle_ind[ind][0]\n",
    "                y = shuffle_ind[ind][1]\n",
    "\n",
    "                dw, db = self.back_prop(x,y)\n",
    "\n",
    "                # Updating weights using dl/dw and bias using dl/wb from back propagation\n",
    "                for ii in range(self.L-1):\n",
    "                    self.weights[ii] = self.weights[ii] - eta*(lam * self.weights[ii] + dw[ii])\n",
    "                    self.biases[ii] = self.biases[ii] - eta*db[ii]\n",
    "\n",
    "           \n",
    "            # Printing the process\n",
    "            if verbose:\n",
    "                if epoch == 0 or (epoch + 1) % 15 == 0:\n",
    "                    acc_train = self.evaluate(train)\n",
    "                    if test is not None:\n",
    "                        acc_test = self.evaluate(test)\n",
    "                        # epoch_accuracy_list.append((acc_test,acc_train))    #omit\n",
    "                        print(\"Epoch {:4d}: Train {:10.5f}, Test {:10.5f}\".format(\n",
    "                            epoch+1, acc_train, acc_test))\n",
    "                        \n",
    "                        self.train_acc = acc_train\n",
    "                        self.test_acc = acc_test\n",
    "                    else:\n",
    "                        print(\"Epoch {:4d}: Train {:10.5f}\".format(\n",
    "                            epoch+1, acc_train))\n",
    "\n",
    "    def back_prop(self, x, y):\n",
    "        \"\"\"\n",
    "        Back propagation for derivatives of C wrt parameters\n",
    "        \"\"\"\n",
    "        db_list = [np.zeros(b.shape) for b in self.biases]\n",
    "        dW_list = [np.zeros(W.shape) for W in self.weights]\n",
    "\n",
    "        #dropout_mask = np.random.rand()\n",
    "        \n",
    "        \n",
    "            \n",
    "        a = x * drop(0.5)\n",
    "        a_list = [a] \n",
    "        z_list = [np.zeros(a.shape)]  # Pad with throwaway so indices match\n",
    "        \n",
    "        # Preform forward propagation \n",
    "        for W, b in zip(self.weights, self.biases):\n",
    "            z = np.dot(W, a) + b\n",
    "            z_list.append(z)\n",
    "            a = self.g(z) * drop(0.5)\n",
    "            a_list.append(a)\n",
    "\n",
    "        # initilize delta to zeros\n",
    "        delta = [np.zeros((n, 1)) for n in self.sizes]\n",
    "        ##print(\"inital delta:\",delta)\n",
    "\n",
    "        # set delta for the last layer \n",
    "        delta[self.L - 1 ] = self.g_prime(z_list[self.L-1]) *self.grad_cost(a_list[self.L-1],y)\n",
    "        ##print(\"last delta:\",delta[self.L - 1 ])\n",
    "        \n",
    "        # Back propagation done here\n",
    "        for ll in range(self.L-2,-1,-1):\n",
    "            dW_list[ll] = np.dot(delta[ll+1],a_list[ll].T)\n",
    "            db_list[ll] = delta[ll+1]\n",
    "            delta[ll] = np.dot(self.weights[ll].T,delta[ll+1]) *self.g_prime(z_list[ll])\n",
    "\n",
    "        return (dW_list, db_list)\n",
    "\n",
    "    def evaluate(self, test):\n",
    "        \"\"\"\n",
    "        Evaluate current model on labeled test data\n",
    "        \"\"\"\n",
    "        ctr = 0\n",
    "        for x, y in test:\n",
    "            yhat = self.forward_prop(x)\n",
    "            ctr += np.argmax(yhat) == np.argmax(y)\n",
    "        return float(ctr) / float(len(test))\n",
    "\n",
    "\n",
    "def sigmoid(z, threshold=20):\n",
    "    z = np.clip(z, -threshold, threshold)\n",
    "    return 1.0/(1.0+np.exp(-z))\n",
    "\n",
    "\n",
    "def sigmoid_prime(z):\n",
    "    return sigmoid(z) * (1.0 - sigmoid(z))\n",
    "\n",
    "def drop(p):\n",
    "    return 1 if random.random() < p else 0\n",
    "        "
   ]
  },
  {
   "cell_type": "code",
   "execution_count": 150,
   "metadata": {},
   "outputs": [
    {
     "name": "stdout",
     "output_type": "stream",
     "text": [
      "Number of Input Features:  196\n",
      "Number of Output classes:  10\n",
      "\n",
      "Hidden Layer Dimensions:  10\n",
      "Epoch    1: Train    0.22089, Test    0.19528\n",
      "Epoch   15: Train    0.76711, Test    0.69908\n",
      "Epoch   30: Train    0.86315, Test    0.79072\n",
      "Epoch   45: Train    0.88355, Test    0.81593\n",
      "Epoch   60: Train    0.88756, Test    0.81993\n",
      "Epoch   75: Train    0.89036, Test    0.81633\n",
      "Epoch   90: Train    0.89556, Test    0.81673\n",
      "Epoch  105: Train    0.89396, Test    0.81513\n",
      "Epoch  120: Train    0.89516, Test    0.82193\n",
      "Epoch  135: Train    0.89516, Test    0.82113\n",
      "Epoch  150: Train    0.89636, Test    0.81873\n",
      "Epoch  165: Train    0.89516, Test    0.81913\n",
      "Epoch  180: Train    0.89916, Test    0.81673\n",
      "Epoch  195: Train    0.89436, Test    0.81713\n"
     ]
    }
   ],
   "source": [
    "location = './data/tinyMNIST.pkl.gz'\n",
    "f = gzip.open(location, 'rb')\n",
    "u = pickle._Unpickler(f)\n",
    "u.encoding = 'latin1'\n",
    "train, test = u.load()\n",
    "input_dimensions = len(train[0][0])\n",
    "output_dimensions = len(train[0][1])\n",
    "hidden_layer_dimensions = 10\n",
    "print('Number of Input Features: ', input_dimensions)\n",
    "print('Number of Output classes: ', output_dimensions)\n",
    "print('\\nHidden Layer Dimensions: ', hidden_layer_dimensions)\n",
    "nnD = NetworkDropout([input_dimensions, hidden_layer_dimensions, output_dimensions])\n",
    "nnD.SGD_train(train, epochs=201, eta=0.1, lam=0.0001, verbose=True, test=test,random=True)"
   ]
  },
  {
   "cell_type": "markdown",
   "metadata": {},
   "source": [
    "Using a dropout rate of 0.5: the initial training and testing accuracy was much lower in the first epoch after elimnating some hidden layers.But The overall accuracy was about +/- 0.04 from what I was able to achive with the the NN without dropout"
   ]
  },
  {
   "cell_type": "markdown",
   "metadata": {},
   "source": [
    "Implement RNN Network to classify whether text is spam or ham \n",
    "---\n",
    "\n",
    "Dataset is obtained from UCI Machine Learning repository consisting of SMS tagged messages (being ham (legitimate) or spam) that have been collected for SMS Spam research.\n"
   ]
  },
  {
   "cell_type": "markdown",
   "metadata": {},
   "source": [
    "Use [Keras](https://keras.io/) to implement a classifier (you need to install Keras). Update the below snippet to build a Sequential model with an embedding layer, and an LSTM layer followed by a dense layer. This question allows you to get familiar with popular deep learning toolkits and the solution only has a few lines. In practice, there is no need to reinvent the wheels.\n",
    "\n",
    "\n",
    "Learn more about RNN : https://colah.github.io/posts/2015-08-Understanding-LSTMs/"
   ]
  },
  {
   "cell_type": "code",
   "execution_count": 151,
   "metadata": {
    "deletable": false,
    "nbgrader": {
     "checksum": "1861dc0bde6838c86a3ed478308544cb",
     "grade": false,
     "grade_id": "cell-e5faa2bc69b4d8cf",
     "locked": false,
     "schema_version": 1,
     "solution": true
    }
   },
   "outputs": [],
   "source": [
    "from keras.datasets import imdb\n",
    "from keras.models import Sequential\n",
    "from keras.layers import Dense\n",
    "from keras.layers import LSTM\n",
    "from keras.layers.embeddings import Embedding\n",
    "from keras.preprocessing import sequence\n",
    "from keras.preprocessing.text import Tokenizer\n",
    "\n",
    "\n",
    "class RNN:\n",
    "    '''\n",
    "    RNN classifier\n",
    "    '''\n",
    "\n",
    "    def __init__(self, train_x, train_y, test_x, test_y, dict_size=5000,\n",
    "                 example_length=150, embedding_length=32, epoches=5, batch_size=128):\n",
    "        '''\n",
    "        initialize RNN model\n",
    "        :param train_x: training data\n",
    "        :param train_y: training label\n",
    "        :param test_x: test data\n",
    "        :param test_y: test label\n",
    "        :param epoches: number of ephoches to run\n",
    "        :param batch_size: batch size in training\n",
    "        :param embedding_length: size of word embedding\n",
    "        :param example_length: length of examples\n",
    "        '''\n",
    "        self.batch_size = batch_size\n",
    "        self.epoches = epoches\n",
    "        self.example_len = example_length\n",
    "        self.dict_size = dict_size\n",
    "        self.embedding_len = embedding_length\n",
    "\n",
    "        # preprocess training data\n",
    "        tok = Tokenizer(num_words=dict_size)\n",
    "        tok.fit_on_texts(train_x)\n",
    "        sequences = tok.texts_to_sequences(train_x)\n",
    "        self.train_x = sequence.pad_sequences(\n",
    "            sequences, maxlen=self.example_len)\n",
    "        sequences = tok.texts_to_sequences(test_x)\n",
    "        self.test_x = sequence.pad_sequences(\n",
    "            sequences, maxlen=self.example_len)\n",
    "\n",
    "        self.train_y = train_y\n",
    "        self.test_y = test_y\n",
    "        \n",
    "\n",
    "        # TODO: build model with Embedding, LSTM and dense layers.\n",
    "        # refer to Sequence classification with LSTM : https://keras.io/getting-started/sequential-model-guide/#examples\n",
    "        # Documentation for LSTM layer in : https://keras.io/layers/recurrent/#lstm\n",
    "        self.model = Sequential()\n",
    "        self.model.add(Embedding(self.dict_size, self.embedding_len, input_length=self.example_len))\n",
    "        self.model.add(LSTM(self.embedding_len))\n",
    "        self.model.add(Dense(1, activation='sigmoid'))\n",
    "        \n",
    "        self.model.compile(loss='binary_crossentropy',\n",
    "                           optimizer='adam', metrics=['accuracy'])\n",
    "\n",
    "    def train(self, verbose=0):\n",
    "        '''\n",
    "        fit in data and train model : refer fit method in https://keras.io/models/model/\n",
    "        make sure you use batchsize and epochs appropriately.\n",
    "        :return:None\n",
    "        '''\n",
    "        self.model.fit(self.train_x, self.train_y, batch_size=self.batch_size, epochs=self.epoches,verbose=verbose)\n",
    "\n",
    "\n",
    "    def evaluate(self,verbose=0):\n",
    "        '''\n",
    "\n",
    "        evaluate trained model : Please refer evaluate in https://keras.io/models/model/\n",
    "        :return: [loss,accuracy]\n",
    "        '''\n",
    "        out = self.model.evaluate(self.test_x, self.test_y, batch_size=self.batch_size, verbose=verbose)\n",
    "        return out\n"
   ]
  },
  {
   "cell_type": "markdown",
   "metadata": {},
   "source": [
    "Complete the following functions *init, train and evaluate functions* and report the accuracy"
   ]
  },
  {
   "cell_type": "code",
   "execution_count": 155,
   "metadata": {
    "deletable": false,
    "editable": false,
    "nbgrader": {
     "checksum": "86cd8ba5f6ed607811db54ae4b5634f8",
     "grade": false,
     "grade_id": "cell-b16c4115704765f4",
     "locked": true,
     "schema_version": 1,
     "solution": false
    }
   },
   "outputs": [],
   "source": [
    "import keras\n",
    "assert keras.__version__ == '2.2.2'"
   ]
  },
  {
   "cell_type": "code",
   "execution_count": 156,
   "metadata": {},
   "outputs": [],
   "source": [
    "import pickle\n",
    "def load_data(location):\n",
    "    return pickle.load(open(location,'rb'))\n",
    "train_x, test_x, train_y, test_y = load_data('./data/spam_data.pkl')\n"
   ]
  },
  {
   "cell_type": "code",
   "execution_count": 157,
   "metadata": {},
   "outputs": [
    {
     "name": "stdout",
     "output_type": "stream",
     "text": [
      "Epoch 1/5\n",
      "4736/4736 [==============================] - 9s 2ms/step - loss: 0.4996 - acc: 0.8539\n",
      "Epoch 2/5\n",
      "4736/4736 [==============================] - 5s 1ms/step - loss: 0.2219 - acc: 0.9145\n",
      "Epoch 3/5\n",
      "4736/4736 [==============================] - 5s 1ms/step - loss: 0.0912 - acc: 0.9831\n",
      "Epoch 4/5\n",
      "4736/4736 [==============================] - 5s 1ms/step - loss: 0.0548 - acc: 0.9901\n",
      "Epoch 5/5\n",
      "4736/4736 [==============================] - 5s 1ms/step - loss: 0.0354 - acc: 0.9941\n",
      "\n",
      "Evaluating test data\n",
      "836/836 [==============================] - 2s 2ms/step\n",
      "\n",
      "Accuracy for LSTM:  0.9904306220095693\n"
     ]
    }
   ],
   "source": [
    "train_x, test_x, train_y, test_y = load_data('./data/spam_data.pkl')\n",
    "rnn = RNN(train_x, train_y, test_x, test_y, epoches=5)\n",
    "rnn.train(verbose=1)\n",
    "\n",
    "print(\"\\nEvaluating test data\")\n",
    "accuracy = rnn.evaluate(verbose=1)\n",
    "print('\\nAccuracy for LSTM: ', accuracy[1])"
   ]
  },
  {
   "cell_type": "markdown",
   "metadata": {
    "collapsed": true
   },
   "source": [
    "Accuracy after 5 epochs. **I was able to get a testing Accuracy of 0.9904306220095693**"
   ]
  },
  {
   "cell_type": "markdown",
   "metadata": {},
   "source": [
    "* Change the embedding length and observe the impact on test and train accuracy.\n",
    "\n",
    "* Explain the impact of embedding length in LSTM Model by providing plots of accuracy vs embedding length."
   ]
  },
  {
   "cell_type": "code",
   "execution_count": 86,
   "metadata": {
    "deletable": false,
    "nbgrader": {
     "checksum": "97a255265b4bdabdf5f448cdb5fa9d7d",
     "grade": true,
     "grade_id": "cell-4c9a9edc927e69ee",
     "locked": false,
     "points": 10,
     "schema_version": 1,
     "solution": true
    }
   },
   "outputs": [
    {
     "name": "stdout",
     "output_type": "stream",
     "text": [
      "Embedding length: 5 \tTest accuracy: 0.9270334916822077\n",
      "Embedding length: 10 \tTest accuracy: 0.9772727261319685\n",
      "Embedding length: 15 \tTest accuracy: 0.988038276371203\n",
      "Embedding length: 20 \tTest accuracy: 0.9868421041223991\n",
      "Embedding length: 25 \tTest accuracy: 0.9916267931176145\n",
      "Embedding length: 30 \tTest accuracy: 0.9928229653664182\n",
      "Embedding length: 35 \tTest accuracy: 0.9952153110047847\n",
      "Embedding length: 40 \tTest accuracy: 0.9964114832535885\n",
      "Embedding length: 45 \tTest accuracy: 0.9964114832535885\n",
      "Embedding length: 50 \tTest accuracy: 0.9928229653664182\n"
     ]
    }
   ],
   "source": [
    "# NOTE: CELL TAKES SEVERAL MINUTES TO RUN!! so i manualy saved the accList array int he next cell,\n",
    "# to run the code, uncomment this cell and comment out the second line in the next cell \n",
    "\n",
    "'''\n",
    "train_x, test_x, train_y, test_y = load_data('./data/spam_data.pkl')\n",
    "\n",
    "n=5\n",
    "accList =[]\n",
    "for ii in range(10):\n",
    "    rnn = RNN(train_x, train_y, test_x, test_y, epoches=5,embedding_length=n)\n",
    "    rnn.train()\n",
    "    accuracy = rnn.evaluate()\n",
    "    accList.append(accuracy[1])\n",
    "    print(\"Embedding length:\",n,\"\\tTest accuracy:\",accuracy[1])\n",
    "    n = n+5\n",
    "\n",
    "'''\n"
   ]
  },
  {
   "cell_type": "code",
   "execution_count": 159,
   "metadata": {},
   "outputs": [
    {
     "data": {
      "text/plain": [
       "[]"
      ]
     },
     "execution_count": 159,
     "metadata": {},
     "output_type": "execute_result"
    },
    {
     "data": {
      "image/png": "[encoded data removed]",
      "text/plain": [
       "<Figure size 576x576 with 1 Axes>"
      ]
     },
     "metadata": {
      "needs_background": "light"
     },
     "output_type": "display_data"
    }
   ],
   "source": [
    "# NOTE: comment out the line below if you plan on running the cell above\n",
    "accList = [0.9270334916822077, 0.9772727261319685, 0.988038276371203, 0.9868421041223991, 0.9916267931176145, 0.9928229653664182, 0.9952153110047847, 0.9964114832535885, 0.9964114832535885, 0.9928229653664182]\n",
    "\n",
    "fig, ax = plt.subplots(nrows=1, ncols=1, figsize=(8,8))\n",
    "embed = [5,10,15,20,25,30,35,40,45,50]\n",
    "\n",
    "\n",
    "ax.plot(embed,accList,label=\"Test accuracy\")\n",
    "ax.legend()\n",
    "ax.set_xlabel(\"Embedding length\")\n",
    "ax.set_ylabel(\"Accuracy\")\n",
    "ax.set_title(\"Embedding Length vs Accuracy with 5 epochs\")\n",
    "ax.plot()"
   ]
  },
  {
   "cell_type": "markdown",
   "metadata": {},
   "source": [
    "As you can see from the graph, increasing the embedding length will actualy increase the test accuracy. But as the size of embedding length increases then so does the time to train the data set, so if you have alot of time in your hand, the higher the embedding layer you set, the better the RNN classifies the test data. You can also observe from the graph that embedding length 20, and 50 sees a slight decrease in train accuracy."
   ]
  },
  {
   "cell_type": "code",
   "execution_count": null,
   "metadata": {},
   "outputs": [],
   "source": []
  }
 ],
 "metadata": {
  "kernelspec": {
   "display_name": "Python 3",
   "language": "python",
   "name": "python3"
  },
  "language_info": {
   "codemirror_mode": {
    "name": "ipython",
    "version": 3
   },
   "file_extension": ".py",
   "mimetype": "text/x-python",
   "name": "python",
   "nbconvert_exporter": "python",
   "pygments_lexer": "ipython3",
   "version": "3.6.6"
  }
 },
 "nbformat": 4,
 "nbformat_minor": 2
}
